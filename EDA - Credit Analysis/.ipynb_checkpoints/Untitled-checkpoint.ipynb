{
 "cells": [
  {
   "cell_type": "code",
   "execution_count": null,
   "metadata": {},
   "outputs": [],
   "source": [
    "catvar = ['TARGET', 'CODE_GENDER', 'FLAG_OWN_REALTY', 'FLAG_OWN_CAR', \n",
    "          'NAME_INCOME_TYPE', 'NAME_EDUCATION_TYPE', 'NAME_FAMILY_STATUS',\n",
    "          'NAME_HOUSING_TYPE', 'ORGANIZATION_TYPE', 'OCCUPATION_TYPE', ]\n",
    "numvar = ['AMT_INCOME_TOTAL', 'CNT_CHILDREN', 'CNT_FAM_MEMBERS', 'DAYS_BIRTH', 'DAYS_EMPLOYED']"
   ]
  },
  {
   "cell_type": "code",
   "execution_count": null,
   "metadata": {},
   "outputs": [],
   "source": [
    "for column in catvar:\n",
    "    df = pd.DataFrame(df_applicant_profile[column].value_counts())\n",
    "    df.reset_index(inplace = True)\n",
    "    df.rename(columns = {'index': column, column: 'Count'}, inplace = True)\n",
    "    df.plot(figsize=(10,5), \n",
    "        kind = 'bar', \n",
    "        x = column, \n",
    "        y = 'Count',\n",
    "        legend = False, \n",
    "        color = 'green')"
   ]
  },
  {
   "cell_type": "code",
   "execution_count": null,
   "metadata": {},
   "outputs": [],
   "source": [
    "def plotunivariant(colval):\n",
    "    width = len(df_applicant_profile[colval].unique()) \n",
    "    plt.figure(figsize=(width, 5))\n",
    "    plt.yscale('log')\n",
    "    plt.xticks(rotation = 90)\n",
    "    sns.countplot(df_applicant_profile[colval].dropna(), order = df_applicant_profile[colval].value_counts().index);\n",
    "    plt.show()\n",
    "    \n",
    "#lstcat=[\"CODE_GENDER\",\"OCCUPATION_TYPE\",\"NAME_INCOME_TYPE\",\"NAME_EDUCATION_TYPE\",\"NAME_FAMILY_STATUS\",\"NAME_HOUSING_TYPE\",\"ORGANIZATION_TYPE\",\"FLAG_OWN_REALTY\",\"FLAG_OWN_CAR\",\"CNT_CHILDREN\",\"CNT_FAM_MEMBERS\"]\n",
    "\n",
    "for column in cv2: plotunivariant(column)"
   ]
  },
  {
   "cell_type": "code",
   "execution_count": null,
   "metadata": {},
   "outputs": [],
   "source": [
    "lstcat=[\"CODE_GENDER\",\"OCCUPATION_TYPE\",\"NAME_INCOME_TYPE\",\"NAME_EDUCATION_TYPE\",\"NAME_FAMILY_STATUS\",\n",
    "        \"NAME_HOUSING_TYPE\",\"ORGANIZATION_TYPE\",\"FLAG_OWN_REALTY\",\"FLAG_OWN_CAR\",\"CNT_CHILDREN\",\"CNT_FAM_MEMBERS\"]\n",
    "\n",
    "for lscat in lstcat:\n",
    "    plt.figure(figsize=(18,10))\n",
    "    sns.countplot(df_applicant_profile[lscat].dropna(), order = df_applicant_profile[lscat].value_counts().index);\n",
    "    plt.xticks(rotation =90)\n",
    "    plt.show( block=False )"
   ]
  },
  {
   "cell_type": "code",
   "execution_count": null,
   "metadata": {},
   "outputs": [],
   "source": [
    "df_target0 = df_merged.loc[df_merged['TARGET'] == 0]\n",
    "df_target1 = df_merged.loc[df_merged['TARGET'] == 1]"
   ]
  },
  {
   "cell_type": "code",
   "execution_count": null,
   "metadata": {},
   "outputs": [],
   "source": [
    "plt.figure(figsize=(15,5))\n",
    "fig, axes = plt.subplots(1, 2)\n",
    "\n",
    "sns.countplot(data = df_target0, x = 'FLAG_OWN_CAR', hue = 'CODE_GENDER', palette = 'magma', ax=axes[0]) \n",
    "sns.countplot(data = df_target1, x = 'FLAG_OWN_CAR', hue = 'CODE_GENDER', palette = 'magma', ax=axes[1]) "
   ]
  },
  {
   "cell_type": "code",
   "execution_count": null,
   "metadata": {},
   "outputs": [],
   "source": [
    "df_merged_t0_corr = df_target0.corr()"
   ]
  },
  {
   "cell_type": "code",
   "execution_count": null,
   "metadata": {},
   "outputs": [],
   "source": [
    "mask = np.zeros_like(df_merged_t0_corr, dtype = np.bool) # creates a boolean matrix of same dimensions as growth_correlation\n",
    "mask[np.triu_indices_from(mask)] = True # masks the indices in upper triangle with a True Value"
   ]
  },
  {
   "cell_type": "code",
   "execution_count": null,
   "metadata": {},
   "outputs": [],
   "source": [
    "f, ax = plt.subplots(figsize=(20, 20))\n",
    "\n",
    "heatmap = sns.heatmap(df_merged_t0_corr, mask = mask, \n",
    "                      square = True, vmin = -1, vmax = 1,\n",
    "                      cmap = 'RdYlGn', annot = True, annot_kws = {'size': 8})\n",
    "\n",
    "# add the column names as labels\n",
    "ax.set_yticklabels(df_merged_t0_corr.columns, rotation = 0)\n",
    "ax.set_xticklabels(df_merged_t0_corr.columns)\n",
    "\n",
    "# add title to the plot\n",
    "# ax.set_title('Correlation Heat Maps - Growth Rate of GSDP in Indian States', fontsize = 20)\n",
    "sns.set_style({'xtick.bottom': True}, {'ytick.left': True})\n",
    "\n",
    "# due to a bug in seaborn the first and last row square are getting cut in half - the following code fixes it\n",
    "bottom, top = ax.get_ylim(); ax.set_ylim(bottom + 0.5, top - 0.5)"
   ]
  },
  {
   "cell_type": "code",
   "execution_count": null,
   "metadata": {},
   "outputs": [],
   "source": [
    "plt.figure(figsize=(15,15))\n",
    "sns.heatmap(round(df_merged_t0_corr.corr()*100,0),annot = True, annot_kws = {'size': 8}, cmap=\"YlGnBu\")\n",
    "plt.show()"
   ]
  },
  {
   "cell_type": "markdown",
   "metadata": {},
   "source": [
    "### Step 7a: Segmented Univariate Analysis of Application Data"
   ]
  },
  {
   "cell_type": "code",
   "execution_count": null,
   "metadata": {},
   "outputs": [],
   "source": [
    "plt.figure(figsize=(15,10))\n",
    "sns.barplot(x = 'NAME_CONTRACT_TYPE', y = 'AMT_CREDIT', hue = 'CODE_GENDER', data = df_target0);"
   ]
  },
  {
   "cell_type": "code",
   "execution_count": null,
   "metadata": {},
   "outputs": [],
   "source": [
    "plt.figure(figsize=(15,10))\n",
    "sns.barplot(x = 'NAME_CONTRACT_TYPE', y = 'AMT_CREDIT', hue = 'FLAG_OWN_CAR', data = df_target1);"
   ]
  },
  {
   "cell_type": "markdown",
   "metadata": {},
   "source": [
    "### Step 7b: Segmented Univariate Analysis of Previous Application"
   ]
  },
  {
   "cell_type": "code",
   "execution_count": null,
   "metadata": {},
   "outputs": [],
   "source": [
    "plt.figure(figsize=(15,10))\n",
    "sns.barplot(x = 'NAME_CLIENT_TYPE', y = 'AMT_APPLICATION', hue = 'NAME_CONTRACT_TYPE', data = df_prev_app_essential)\n",
    "plt.xlabel('NAME_YIELD_GROUP')\n",
    "plt.ylabel('Loan Amount')\n",
    "plt.title('Loan Amount vs. NAME_CONTRACT_TYPE')\n",
    "plt.show()"
   ]
  },
  {
   "cell_type": "code",
   "execution_count": null,
   "metadata": {},
   "outputs": [],
   "source": [
    "plt.figure(figsize=(15,10))\n",
    "sns.barplot(x = 'NAME_YIELD_GROUP', y = 'AMT_APPLICATION', hue = 'NAME_CLIENT_TYPE', data = df_prev_app_essential)\n",
    "plt.xlabel('NAME_YIELD_GROUP')\n",
    "plt.ylabel('Loan Amount')\n",
    "plt.title('Loan Amount vs NAME_CLIENT_TYPE')\n",
    "plt.show()"
   ]
  },
  {
   "cell_type": "code",
   "execution_count": null,
   "metadata": {},
   "outputs": [],
   "source": [
    "# Histogram on Derived Columns\n",
    "\n",
    "histvar3 = ['TOTAL_APPLIED_PAST', 'TOTAL_CREDIT_PAST', 'TOTAL_PREV_APP_CNT']\n",
    "\n",
    "for column in histvar3:\n",
    "    maxval = df_merged[column].max()\n",
    "    minval = df_merged[column].min()\n",
    "    medianval = df_merged[column].median()\n",
    "    if medianval <= 0: medianval = 1\n",
    "    binsize = int((maxval - minval) / medianval)\n",
    "    df_merged.hist(column = column, bins = binsize, grid=False, figsize=(10,5), color='#86bfad')"
   ]
  }
 ],
 "metadata": {
  "kernelspec": {
   "display_name": "Python 3",
   "language": "python",
   "name": "python3"
  },
  "language_info": {
   "codemirror_mode": {
    "name": "ipython",
    "version": 3
   },
   "file_extension": ".py",
   "mimetype": "text/x-python",
   "name": "python",
   "nbconvert_exporter": "python",
   "pygments_lexer": "ipython3",
   "version": "3.7.4"
  }
 },
 "nbformat": 4,
 "nbformat_minor": 2
}
