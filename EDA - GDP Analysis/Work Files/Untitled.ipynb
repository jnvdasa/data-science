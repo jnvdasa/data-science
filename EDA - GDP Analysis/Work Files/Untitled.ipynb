{
 "cells": [
  {
   "cell_type": "code",
   "execution_count": null,
   "metadata": {},
   "outputs": [],
   "source": [
    "def compute_growth_rate(gdp_final, gdp_start, periods):\n",
    "    return round((((gdp_final / gdp_start) ** (1 / periods)) - 1) * 100, 2)\n",
    "\n",
    "states = ['Andhra Pradesh', 'Arunachal Pradesh', 'Assam', 'Bihar', 'Chhattisgarh', 'Goa', \n",
    "          'Gujarat', 'Haryana', 'Himachal Pradesh',  'Jharkhand', 'Karnataka', 'Kerala', \n",
    "          'Madhya Pradesh', 'Maharashtra', 'Manipur', 'Meghalaya', 'Mizoram',  'Nagaland', \n",
    "          'Odisha', 'Punjab', 'Rajasthan', 'Sikkim', 'Tamil Nadu', 'Telangana', 'Tripura', \n",
    "          'Uttarakhand', 'Uttar Pradesh']\n",
    "\n",
    "for state in states:\n",
    "    if data[state].isnull()[4] == True:\n",
    "        print(state)\n",
    "        growth_rate = compute_growth_rate(data[state][3], data[state][0], 4)\n",
    "        gsdp = round(data[state][3] * (100 + growth_rate) / 100, 0)\n",
    "        print(growth_rate, gsdp)\n",
    "        #print(data.loc[(data.Duration == '2014-15') & (data.Items == 'GSDP - CURRENT PRICES (` in Crore)')])\n",
    "        #print(data.loc[(data.Duration == '2014-15') & (data.Items == '(% Growth over previous year)')])\n",
    "        data.loc[(data.Duration == '2014-15') & (data.Items == 'GSDP - CURRENT PRICES (` in Crore)'), state] = gsdp\n",
    "        data.loc[(data.Duration == '2014-15') & (data.Items == '(% Growth over previous year)'), state] = growth_rate\n",
    "        print(state, data[state][9], data[state][3])\n",
    "        #data[state][9]= growth_rate\n",
    "        #data[state][4] = round(data[state][3] * (100 + growth_rate) / 100, 0)\n",
    "        \n",
    "data.head(10)"
   ]
  }
 ],
 "metadata": {
  "kernelspec": {
   "display_name": "Python 3",
   "language": "python",
   "name": "python3"
  },
  "language_info": {
   "codemirror_mode": {
    "name": "ipython",
    "version": 3
   },
   "file_extension": ".py",
   "mimetype": "text/x-python",
   "name": "python",
   "nbconvert_exporter": "python",
   "pygments_lexer": "ipython3",
   "version": "3.7.4"
  }
 },
 "nbformat": 4,
 "nbformat_minor": 2
}
